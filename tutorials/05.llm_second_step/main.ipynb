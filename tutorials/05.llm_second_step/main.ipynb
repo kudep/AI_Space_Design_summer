{
 "cells": [
  {
   "cell_type": "markdown",
   "metadata": {},
   "source": [
    "Для лучшего понимания работы метода `client.chat.completions.create` из библиотеки OpenAI, можно создать различные примеры использования в Jupyter Notebook. Эти примеры покажут, как можно задавать разные вопросы, использовать разные роли и параметры.\n",
    "\n",
    "### Примеры ячеек для Jupyter Notebook\n",
    "\n",
    "#### 1. Простой запрос"
   ]
  },
  {
   "cell_type": "code",
   "execution_count": null,
   "metadata": {},
   "outputs": [],
   "source": [
    "from openai import OpenAI\n",
    "\n",
    "API_KEY = \"ваш_ключ_здесь\"\n",
    "\n",
    "client = OpenAI(\n",
    "    api_key=API_KEY,\n",
    "    base_url=\"http://193.187.173.33:8002/api/providers/openai/v1\",\n",
    ")\n",
    "\n",
    "completion = client.chat.completions.create(\n",
    "    model=\"gpt-3.5-turbo\",\n",
    "    messages=[{\"role\": \"user\", \"content\": \"What is the capital of France?\"}],\n",
    ")\n",
    "\n",
    "print(completion.choices[0].message['content'])"
   ]
  },
  {
   "cell_type": "markdown",
   "metadata": {
    "vscode": {
     "languageId": "raw"
    }
   },
   "source": [
    "#### 2. Установка роли и контекста"
   ]
  },
  {
   "cell_type": "code",
   "execution_count": null,
   "metadata": {},
   "outputs": [],
   "source": [
    "completion = client.chat.completions.create(\n",
    "    model=\"gpt-3.5-turbo\",\n",
    "    messages=[\n",
    "        {\"role\": \"system\", \"content\": \"You are a helpful assistant.\"},\n",
    "        {\"role\": \"user\", \"content\": \"What are the benefits of exercising regularly?\"}\n",
    "    ],\n",
    ")\n",
    "\n",
    "print(completion.choices[0].message['content'])"
   ]
  },
  {
   "cell_type": "markdown",
   "metadata": {},
   "source": [
    "#### 3. Продолжение диалога"
   ]
  },
  {
   "cell_type": "code",
   "execution_count": null,
   "metadata": {},
   "outputs": [],
   "source": [
    "completion = client.chat.completions.create(\n",
    "    model=\"gpt-3.5-turbo\",\n",
    "    messages=[\n",
    "        {\"role\": \"system\", \"content\": \"You are a helpful assistant.\"},\n",
    "        {\"role\": \"user\", \"content\": \"Tell me a joke.\"},\n",
    "        {\"role\": \"assistant\", \"content\": \"Why don't scientists trust atoms? Because they make up everything!\"},\n",
    "        {\"role\": \"user\", \"content\": \"Tell me another one.\"}\n",
    "    ],\n",
    ")\n",
    "\n",
    "print(completion.choices[0].message['content'])"
   ]
  },
  {
   "cell_type": "markdown",
   "metadata": {},
   "source": [
    "#### 4. Использование температуры для изменения стиля ответа"
   ]
  },
  {
   "cell_type": "code",
   "execution_count": null,
   "metadata": {},
   "outputs": [],
   "source": [
    "completion = client.chat.completions.create(\n",
    "    model=\"gpt-3.5-turbo\",\n",
    "    messages=[{\"role\": \"user\", \"content\": \"Can you write a short story about a brave knight?\"}],\n",
    "    temperature=0.9  # Значение температуры от 0 до 1, чем выше значение, тем креативнее ответы\n",
    ")\n",
    "\n",
    "print(completion.choices[0].message['content'])"
   ]
  },
  {
   "cell_type": "markdown",
   "metadata": {},
   "source": [
    "#### 5. Установка максимальной длины ответа"
   ]
  },
  {
   "cell_type": "code",
   "execution_count": null,
   "metadata": {},
   "outputs": [],
   "source": [
    "completion = client.chat.completions.create(\n",
    "    model=\"gpt-3.5-turbo\",\n",
    "    messages=[{\"role\": \"user\", \"content\": \"Explain the theory of relativity in simple terms.\"}],\n",
    "    max_tokens=50  # Ограничение на количество токенов в ответе\n",
    ")\n",
    "\n",
    "print(completion.choices[0].message['content'])"
   ]
  },
  {
   "cell_type": "markdown",
   "metadata": {},
   "source": [
    "#### 6. Многократные запросы с изменением контекста"
   ]
  },
  {
   "cell_type": "code",
   "execution_count": null,
   "metadata": {},
   "outputs": [],
   "source": [
    "queries = [\n",
    "    \"What is the tallest mountain in the world?\",\n",
    "    \"Who wrote 'Pride and Prejudice'?\",\n",
    "    \"What is the speed of light?\"\n",
    "]\n",
    "\n",
    "for query in queries:\n",
    "    completion = client.chat.completions.create(\n",
    "        model=\"gpt-3.5-turbo\",\n",
    "        messages=[{\"role\": \"user\", \"content\": query}]\n",
    "    )\n",
    "    print(f\"Q: {query}\")\n",
    "    print(f\"A: {completion.choices[0].message['content']}\\n\")"
   ]
  },
  {
   "cell_type": "markdown",
   "metadata": {},
   "source": [
    "#### 7. Создание творческого текста"
   ]
  },
  {
   "cell_type": "markdown",
   "metadata": {},
   "source": [
    "completion = client.chat.completions.create(\n",
    "    model=\"gpt-3.5-turbo\",\n",
    "    messages=[{\"role\": \"user\", \"content\": \"Write a poem about the ocean.\"}],\n",
    "    temperature=0.7,\n",
    "    max_tokens=100\n",
    ")\n",
    "\n",
    "print(completion.choices[0].message['content'])"
   ]
  }
 ],
 "metadata": {
  "language_info": {
   "name": "python"
  }
 },
 "nbformat": 4,
 "nbformat_minor": 2
}
